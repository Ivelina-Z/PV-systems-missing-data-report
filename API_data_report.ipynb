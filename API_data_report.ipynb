{
 "cells": [
  {
   "cell_type": "code",
   "execution_count": 22,
   "id": "3ba7f7af-ff7f-4a2d-953b-805a0c584ec0",
   "metadata": {},
   "outputs": [],
   "source": [
    "import requests\n",
    "import pandas as pd"
   ]
  },
  {
   "cell_type": "markdown",
   "id": "09a1df8f-31ed-47c3-8026-25904955fcbf",
   "metadata": {
    "tags": []
   },
   "source": [
    "## PV Systems in API data"
   ]
  },
  {
   "cell_type": "markdown",
   "id": "b8affca8-6e13-437f-ade1-17b150934100",
   "metadata": {},
   "source": [
    "The `pv_systems` data set initialy consists of 158 PV plants. For every record there are information about it name, id, and location (`site_id`, `site_location`, `site_latitude`, `site_longitude` and `site_elevation`). From all that site data the `system_id` will be used as request parameter for the site metadata."
   ]
  },
  {
   "cell_type": "code",
   "execution_count": 23,
   "id": "c8f4cfbc-ca54-4572-996a-f9ef129e768f",
   "metadata": {},
   "outputs": [],
   "source": [
    "pv_systems = pd.read_csv('systems.csv')"
   ]
  },
  {
   "cell_type": "code",
   "execution_count": 24,
   "id": "fcc48d96-695e-4ef5-83c2-e4c6f763adf5",
   "metadata": {},
   "outputs": [
    {
     "data": {
      "text/html": [
       "<div>\n",
       "<style scoped>\n",
       "    .dataframe tbody tr th:only-of-type {\n",
       "        vertical-align: middle;\n",
       "    }\n",
       "\n",
       "    .dataframe tbody tr th {\n",
       "        vertical-align: top;\n",
       "    }\n",
       "\n",
       "    .dataframe thead th {\n",
       "        text-align: right;\n",
       "    }\n",
       "</style>\n",
       "<table border=\"1\" class=\"dataframe\">\n",
       "  <thead>\n",
       "    <tr style=\"text-align: right;\">\n",
       "      <th></th>\n",
       "      <th>system_id</th>\n",
       "      <th>system_public_name</th>\n",
       "      <th>site_id</th>\n",
       "      <th>site_public_name</th>\n",
       "      <th>site_location</th>\n",
       "      <th>site_latitude</th>\n",
       "      <th>site_longitude</th>\n",
       "      <th>site_elevation</th>\n",
       "    </tr>\n",
       "  </thead>\n",
       "  <tbody>\n",
       "    <tr>\n",
       "      <th>0</th>\n",
       "      <td>4902</td>\n",
       "      <td>NIST_Ground_1</td>\n",
       "      <td>3197</td>\n",
       "      <td>s_NIST_G1</td>\n",
       "      <td>Gaithersburg MD</td>\n",
       "      <td>39.1319</td>\n",
       "      <td>-77.2141</td>\n",
       "      <td>138.0</td>\n",
       "    </tr>\n",
       "    <tr>\n",
       "      <th>1</th>\n",
       "      <td>4903</td>\n",
       "      <td>NIST_Roof_1</td>\n",
       "      <td>3198</td>\n",
       "      <td>s_NIST_R1</td>\n",
       "      <td>Gaithersburg MD</td>\n",
       "      <td>39.1354</td>\n",
       "      <td>-77.2156</td>\n",
       "      <td>149.0</td>\n",
       "    </tr>\n",
       "    <tr>\n",
       "      <th>2</th>\n",
       "      <td>4901</td>\n",
       "      <td>NIST_Canopy_1</td>\n",
       "      <td>3196</td>\n",
       "      <td>s_NIST_C1</td>\n",
       "      <td>Gaithersburg MD</td>\n",
       "      <td>39.1385</td>\n",
       "      <td>-77.2155</td>\n",
       "      <td>137.0</td>\n",
       "    </tr>\n",
       "    <tr>\n",
       "      <th>3</th>\n",
       "      <td>2</td>\n",
       "      <td>Residential 1a</td>\n",
       "      <td>1</td>\n",
       "      <td>Residential 1</td>\n",
       "      <td>Golden, CO</td>\n",
       "      <td>39.7214</td>\n",
       "      <td>-105.0972</td>\n",
       "      <td>1675.0</td>\n",
       "    </tr>\n",
       "    <tr>\n",
       "      <th>4</th>\n",
       "      <td>50</td>\n",
       "      <td>NREL x-Si 6</td>\n",
       "      <td>3</td>\n",
       "      <td>SERF East</td>\n",
       "      <td>Golden, CO</td>\n",
       "      <td>39.7420</td>\n",
       "      <td>-105.1727</td>\n",
       "      <td>1994.7</td>\n",
       "    </tr>\n",
       "  </tbody>\n",
       "</table>\n",
       "</div>"
      ],
      "text/plain": [
       "   system_id system_public_name  site_id site_public_name    site_location  \\\n",
       "0       4902      NIST_Ground_1     3197        s_NIST_G1  Gaithersburg MD   \n",
       "1       4903        NIST_Roof_1     3198        s_NIST_R1  Gaithersburg MD   \n",
       "2       4901      NIST_Canopy_1     3196        s_NIST_C1  Gaithersburg MD   \n",
       "3          2     Residential 1a        1    Residential 1       Golden, CO   \n",
       "4         50        NREL x-Si 6        3        SERF East       Golden, CO   \n",
       "\n",
       "   site_latitude  site_longitude  site_elevation  \n",
       "0        39.1319        -77.2141           138.0  \n",
       "1        39.1354        -77.2156           149.0  \n",
       "2        39.1385        -77.2155           137.0  \n",
       "3        39.7214       -105.0972          1675.0  \n",
       "4        39.7420       -105.1727          1994.7  "
      ]
     },
     "execution_count": 24,
     "metadata": {},
     "output_type": "execute_result"
    }
   ],
   "source": [
    "pv_systems.head()"
   ]
  },
  {
   "cell_type": "markdown",
   "id": "dbe0f840-43cc-4f58-a280-3ca01b5d9ae0",
   "metadata": {},
   "source": [
    "## Drop duplicates !!"
   ]
  },
  {
   "cell_type": "code",
   "execution_count": 25,
   "id": "6151ffcd-1f88-4a19-811b-4277dbdfb416",
   "metadata": {},
   "outputs": [
    {
     "data": {
      "text/plain": [
       "(158, 8)"
      ]
     },
     "execution_count": 25,
     "metadata": {},
     "output_type": "execute_result"
    }
   ],
   "source": [
    "pv_systems.shape"
   ]
  },
  {
   "cell_type": "markdown",
   "id": "9d9e693f-92d6-48cc-a952-59e65d4d3439",
   "metadata": {},
   "source": [
    "There is no missing data for `system_id`, althought there are duplicates of sites. Those will be dropped in order to avoid making requests for the same PV plant twice. After deleting any duplicated sites there are total of 156 PV plants for which metadata will be extracted."
   ]
  },
  {
   "cell_type": "code",
   "execution_count": 26,
   "id": "2ff5fc4b-5912-4e7a-9667-66ada9247047",
   "metadata": {},
   "outputs": [
    {
     "data": {
      "text/plain": [
       "array([False])"
      ]
     },
     "execution_count": 26,
     "metadata": {},
     "output_type": "execute_result"
    }
   ],
   "source": [
    "pv_systems['system_id'].isna().unique()"
   ]
  },
  {
   "cell_type": "code",
   "execution_count": 27,
   "id": "57118af4-62c1-4c1b-8b38-c3189fe98171",
   "metadata": {},
   "outputs": [
    {
     "data": {
      "text/plain": [
       "True"
      ]
     },
     "execution_count": 27,
     "metadata": {},
     "output_type": "execute_result"
    }
   ],
   "source": [
    "(pv_systems['system_id'].value_counts() > 1).any()"
   ]
  },
  {
   "cell_type": "code",
   "execution_count": 28,
   "id": "817a67dc-72e6-4afa-b357-de677dece2ab",
   "metadata": {},
   "outputs": [],
   "source": [
    "pv_systems = pv_systems.drop_duplicates()"
   ]
  },
  {
   "cell_type": "code",
   "execution_count": 29,
   "id": "9373d54b-a4dc-431e-9341-41c1467e4891",
   "metadata": {},
   "outputs": [
    {
     "data": {
      "text/plain": [
       "False"
      ]
     },
     "execution_count": 29,
     "metadata": {},
     "output_type": "execute_result"
    }
   ],
   "source": [
    "(pv_systems['system_id'].value_counts() > 1).any()"
   ]
  },
  {
   "cell_type": "code",
   "execution_count": 30,
   "id": "230d3328-7e77-4204-ad67-b8483fd199d3",
   "metadata": {},
   "outputs": [
    {
     "data": {
      "text/plain": [
       "(156, 8)"
      ]
     },
     "execution_count": 30,
     "metadata": {},
     "output_type": "execute_result"
    }
   ],
   "source": [
    "pv_systems.shape"
   ]
  },
  {
   "cell_type": "markdown",
   "id": "101e43ba-1787-4bde-aeb0-6417f0c5d942",
   "metadata": {},
   "source": [
    "## Request metadata for every PV system"
   ]
  },
  {
   "cell_type": "code",
   "execution_count": 31,
   "id": "49a247bf-d2c8-469d-a767-ffffa14c5402",
   "metadata": {},
   "outputs": [],
   "source": [
    "metadata_report = []\n",
    "error_request = []"
   ]
  },
  {
   "cell_type": "code",
   "execution_count": 32,
   "id": "7f548ae5-032b-4afa-b537-337272ab4cb8",
   "metadata": {},
   "outputs": [],
   "source": [
    "for system in pv_systems['system_id']:\n",
    "    result_metadata = requests.get(f'https://developer.nrel.gov/api/pvdaq/v3/sites.json?api_key=xPPvwr5Jn6RvoUod52vgbckHsa0pX382wVSJwU0o&system_id={system}')\n",
    "    if result_metadata.status_code == 200:\n",
    "        metadata_report.append(result_metadata.json())\n",
    "    elif result_metadata.status_code == 401:\n",
    "        error_request.append({'error_type': '401-Unauthorized', 'system_id': system})\n",
    "    elif result_metadata.status_code == 422:\n",
    "        error_request.append({'error_type': '422-Unprocessable Entity', 'system_id': system})"
   ]
  },
  {
   "cell_type": "code",
   "execution_count": 21,
   "id": "cf59a50d-6aaa-48eb-abb5-4684d7329626",
   "metadata": {},
   "outputs": [],
   "source": [
    "# metadata_report"
   ]
  },
  {
   "cell_type": "markdown",
   "id": "5525644a-00a3-4531-a39b-497b1402abd4",
   "metadata": {},
   "source": [
    "## JSON report to CSV"
   ]
  },
  {
   "cell_type": "code",
   "execution_count": 36,
   "id": "93b6fd8f-6320-47e7-809c-c4e7df81271d",
   "metadata": {},
   "outputs": [
    {
     "data": {
      "text/html": [
       "<div>\n",
       "<style scoped>\n",
       "    .dataframe tbody tr th:only-of-type {\n",
       "        vertical-align: middle;\n",
       "    }\n",
       "\n",
       "    .dataframe tbody tr th {\n",
       "        vertical-align: top;\n",
       "    }\n",
       "\n",
       "    .dataframe thead th {\n",
       "        text-align: right;\n",
       "    }\n",
       "</style>\n",
       "<table border=\"1\" class=\"dataframe\">\n",
       "  <thead>\n",
       "    <tr style=\"text-align: right;\">\n",
       "      <th></th>\n",
       "      <th>available_years</th>\n",
       "      <th>comments</th>\n",
       "      <th>confidential</th>\n",
       "      <th>inverter_mfg</th>\n",
       "      <th>inverter_model</th>\n",
       "      <th>module_mfg</th>\n",
       "      <th>module_model</th>\n",
       "      <th>site_power</th>\n",
       "      <th>module_tech</th>\n",
       "      <th>name_private</th>\n",
       "      <th>name_public</th>\n",
       "      <th>site_area</th>\n",
       "      <th>site_azimuth</th>\n",
       "      <th>site_elevation</th>\n",
       "      <th>site_latitude</th>\n",
       "      <th>site_longitude</th>\n",
       "      <th>site_tilt</th>\n",
       "      <th>system_id</th>\n",
       "    </tr>\n",
       "  </thead>\n",
       "  <tbody>\n",
       "    <tr>\n",
       "      <th>0</th>\n",
       "      <td>[2010, 2011, 2012, 2013, 2014, 2015, 2016, 201...</td>\n",
       "      <td>Having repeated problems with inverter main bo...</td>\n",
       "      <td>False</td>\n",
       "      <td>SatCon Technology</td>\n",
       "      <td>135kW</td>\n",
       "      <td>Sharp</td>\n",
       "      <td>NU-U240F1</td>\n",
       "      <td>146640.0</td>\n",
       "      <td>1</td>\n",
       "      <td>Andre Agassi Preparatory Academy - Building A</td>\n",
       "      <td>[34] Andre Agassi Preparatory Academy - Buildi...</td>\n",
       "      <td>996.0278</td>\n",
       "      <td>180.0</td>\n",
       "      <td>620.0</td>\n",
       "      <td>36.1952</td>\n",
       "      <td>-115.1582</td>\n",
       "      <td>11.2</td>\n",
       "      <td>34</td>\n",
       "    </tr>\n",
       "    <tr>\n",
       "      <th>1</th>\n",
       "      <td>[2015, 2016, 2017]</td>\n",
       "      <td>None</td>\n",
       "      <td>False</td>\n",
       "      <td>SMA</td>\n",
       "      <td>Tripower 20kW</td>\n",
       "      <td>SolarWorld</td>\n",
       "      <td>SW 280 Mono</td>\n",
       "      <td>40000.0</td>\n",
       "      <td>None</td>\n",
       "      <td>Clark County, NV - Hollywood Rec Center</td>\n",
       "      <td>[1419] Clark County, NV - Hollywood Rec Center</td>\n",
       "      <td>None</td>\n",
       "      <td>210.0</td>\n",
       "      <td>779.0</td>\n",
       "      <td>36.1534</td>\n",
       "      <td>115.0256</td>\n",
       "      <td>10.0</td>\n",
       "      <td>1419</td>\n",
       "    </tr>\n",
       "    <tr>\n",
       "      <th>2</th>\n",
       "      <td>[]</td>\n",
       "      <td>None</td>\n",
       "      <td>False</td>\n",
       "      <td>Solectria</td>\n",
       "      <td>PVI 3000</td>\n",
       "      <td>Suntech</td>\n",
       "      <td>STP-270</td>\n",
       "      <td>3240.0</td>\n",
       "      <td>2</td>\n",
       "      <td>Make It Right, New Orleans, Site #1</td>\n",
       "      <td>Residential - NOLA #1 - District A North</td>\n",
       "      <td>23.28</td>\n",
       "      <td>185.9</td>\n",
       "      <td>10.0</td>\n",
       "      <td>30.0017</td>\n",
       "      <td>90.0926</td>\n",
       "      <td>17.0</td>\n",
       "      <td>1244</td>\n",
       "    </tr>\n",
       "    <tr>\n",
       "      <th>3</th>\n",
       "      <td>[2011, 2012, 2013, 2014, 2015, 2016, 2017, 201...</td>\n",
       "      <td>None</td>\n",
       "      <td>False</td>\n",
       "      <td>NaN</td>\n",
       "      <td>NaN</td>\n",
       "      <td>NaN</td>\n",
       "      <td>NaN</td>\n",
       "      <td>140140.0</td>\n",
       "      <td>1</td>\n",
       "      <td>Distributed Sun - 5 Executive Campus</td>\n",
       "      <td>[1201] Distributed Sun - 5 Executive Campus</td>\n",
       "      <td>959.058</td>\n",
       "      <td>230.0</td>\n",
       "      <td>18.0</td>\n",
       "      <td>39.9283</td>\n",
       "      <td>-75.0481</td>\n",
       "      <td>10.0</td>\n",
       "      <td>1201</td>\n",
       "    </tr>\n",
       "    <tr>\n",
       "      <th>4</th>\n",
       "      <td>[2009, 2010, 2011, 2012, 2013, 2014, 2015, 201...</td>\n",
       "      <td>1-axis tracked</td>\n",
       "      <td>False</td>\n",
       "      <td>Advanced Energy</td>\n",
       "      <td>Solaron 333 kVA</td>\n",
       "      <td>Evergreen Solar</td>\n",
       "      <td>ES-190, ES-195</td>\n",
       "      <td>1082850.0</td>\n",
       "      <td>None</td>\n",
       "      <td>NREL, Windsite PV 1-axis</td>\n",
       "      <td>[1431] NREL Windsite PV 1-axis</td>\n",
       "      <td>None</td>\n",
       "      <td>None</td>\n",
       "      <td>1850.0</td>\n",
       "      <td>39.9094</td>\n",
       "      <td>105.2311</td>\n",
       "      <td>None</td>\n",
       "      <td>1431</td>\n",
       "    </tr>\n",
       "    <tr>\n",
       "      <th>...</th>\n",
       "      <td>...</td>\n",
       "      <td>...</td>\n",
       "      <td>...</td>\n",
       "      <td>...</td>\n",
       "      <td>...</td>\n",
       "      <td>...</td>\n",
       "      <td>...</td>\n",
       "      <td>...</td>\n",
       "      <td>...</td>\n",
       "      <td>...</td>\n",
       "      <td>...</td>\n",
       "      <td>...</td>\n",
       "      <td>...</td>\n",
       "      <td>...</td>\n",
       "      <td>...</td>\n",
       "      <td>...</td>\n",
       "      <td>...</td>\n",
       "      <td>...</td>\n",
       "    </tr>\n",
       "    <tr>\n",
       "      <th>80</th>\n",
       "      <td>[2010, 2011, 2012, 2013, 2014, 2016, 2017, 201...</td>\n",
       "      <td>None</td>\n",
       "      <td>False</td>\n",
       "      <td>Fronius</td>\n",
       "      <td>IG 3000</td>\n",
       "      <td>UniSolar</td>\n",
       "      <td>PVL-136</td>\n",
       "      <td>2720.0</td>\n",
       "      <td>3</td>\n",
       "      <td>Nelson Home, Golden, CO, Array 2</td>\n",
       "      <td>[3] Residential #1b</td>\n",
       "      <td>43.23</td>\n",
       "      <td>181.2</td>\n",
       "      <td>1675.0</td>\n",
       "      <td>39.7214</td>\n",
       "      <td>-105.0972</td>\n",
       "      <td>18.5</td>\n",
       "      <td>3</td>\n",
       "    </tr>\n",
       "    <tr>\n",
       "      <th>81</th>\n",
       "      <td>[2010, 2011, 2012, 2013, 2014, 2015, 2016, 201...</td>\n",
       "      <td>None</td>\n",
       "      <td>False</td>\n",
       "      <td>SMA</td>\n",
       "      <td>Sunny Boy 3000US</td>\n",
       "      <td>Silicor Materials</td>\n",
       "      <td>240</td>\n",
       "      <td>2400.0</td>\n",
       "      <td>9</td>\n",
       "      <td>OTF, Calisolar (System 1)</td>\n",
       "      <td>[33] Silicor Materials</td>\n",
       "      <td>15.76</td>\n",
       "      <td>180.0</td>\n",
       "      <td>1794.5</td>\n",
       "      <td>39.7404</td>\n",
       "      <td>-105.1772</td>\n",
       "      <td>40.0</td>\n",
       "      <td>33</td>\n",
       "    </tr>\n",
       "    <tr>\n",
       "      <th>82</th>\n",
       "      <td>[2013, 2014, 2015, 2016, 2017, 2018, 2019, 2020]</td>\n",
       "      <td>Array tilt is a weighted average of the two ti...</td>\n",
       "      <td>False</td>\n",
       "      <td>Satcon</td>\n",
       "      <td>PVS-500(x2), PVS-135(x1)</td>\n",
       "      <td>SunPower</td>\n",
       "      <td>318W(x3136), 315W(496)</td>\n",
       "      <td>1153488.0</td>\n",
       "      <td>1</td>\n",
       "      <td>NREL, Parking Garage</td>\n",
       "      <td>[1332] NREL Parking Garage</td>\n",
       "      <td>5922.7534</td>\n",
       "      <td>180.0</td>\n",
       "      <td>1770.0</td>\n",
       "      <td>39.7388</td>\n",
       "      <td>-105.1732</td>\n",
       "      <td>16.77</td>\n",
       "      <td>1332</td>\n",
       "    </tr>\n",
       "    <tr>\n",
       "      <th>83</th>\n",
       "      <td>[1822, 1994, 1995, 1996, 1997, 1998, 1999, 200...</td>\n",
       "      <td>None</td>\n",
       "      <td>False</td>\n",
       "      <td>Fronius</td>\n",
       "      <td>IG 4500-LV</td>\n",
       "      <td>Siemens</td>\n",
       "      <td>M55 c-SI</td>\n",
       "      <td>6000.0</td>\n",
       "      <td>None</td>\n",
       "      <td>SERF, Serf East Systems</td>\n",
       "      <td>[50] NREL x-Si #6</td>\n",
       "      <td>None</td>\n",
       "      <td>158.0</td>\n",
       "      <td>1994.7</td>\n",
       "      <td>39.7420</td>\n",
       "      <td>-105.1727</td>\n",
       "      <td>45.0</td>\n",
       "      <td>50</td>\n",
       "    </tr>\n",
       "    <tr>\n",
       "      <th>84</th>\n",
       "      <td>[2010, 2011, 2012, 2013, 2014, 2016, 2017, 201...</td>\n",
       "      <td>None</td>\n",
       "      <td>False</td>\n",
       "      <td>Fronius</td>\n",
       "      <td>IG 4000</td>\n",
       "      <td>Sharp</td>\n",
       "      <td>ND-208U1</td>\n",
       "      <td>2912.0</td>\n",
       "      <td>2</td>\n",
       "      <td>Nelson Home, Golden, CO, Array 1</td>\n",
       "      <td>[2] Residential #1a</td>\n",
       "      <td>22.82</td>\n",
       "      <td>181.2</td>\n",
       "      <td>1675.0</td>\n",
       "      <td>39.7214</td>\n",
       "      <td>-105.0972</td>\n",
       "      <td>18.5</td>\n",
       "      <td>2</td>\n",
       "    </tr>\n",
       "  </tbody>\n",
       "</table>\n",
       "<p>85 rows × 18 columns</p>\n",
       "</div>"
      ],
      "text/plain": [
       "                                      available_years  \\\n",
       "0   [2010, 2011, 2012, 2013, 2014, 2015, 2016, 201...   \n",
       "1                                  [2015, 2016, 2017]   \n",
       "2                                                  []   \n",
       "3   [2011, 2012, 2013, 2014, 2015, 2016, 2017, 201...   \n",
       "4   [2009, 2010, 2011, 2012, 2013, 2014, 2015, 201...   \n",
       "..                                                ...   \n",
       "80  [2010, 2011, 2012, 2013, 2014, 2016, 2017, 201...   \n",
       "81  [2010, 2011, 2012, 2013, 2014, 2015, 2016, 201...   \n",
       "82   [2013, 2014, 2015, 2016, 2017, 2018, 2019, 2020]   \n",
       "83  [1822, 1994, 1995, 1996, 1997, 1998, 1999, 200...   \n",
       "84  [2010, 2011, 2012, 2013, 2014, 2016, 2017, 201...   \n",
       "\n",
       "                                             comments  confidential  \\\n",
       "0   Having repeated problems with inverter main bo...         False   \n",
       "1                                                None         False   \n",
       "2                                                None         False   \n",
       "3                                                None         False   \n",
       "4                                      1-axis tracked         False   \n",
       "..                                                ...           ...   \n",
       "80                                               None         False   \n",
       "81                                               None         False   \n",
       "82  Array tilt is a weighted average of the two ti...         False   \n",
       "83                                               None         False   \n",
       "84                                               None         False   \n",
       "\n",
       "         inverter_mfg            inverter_model         module_mfg  \\\n",
       "0   SatCon Technology                     135kW             Sharp    \n",
       "1                 SMA             Tripower 20kW         SolarWorld   \n",
       "2           Solectria                  PVI 3000            Suntech   \n",
       "3                 NaN                       NaN                NaN   \n",
       "4     Advanced Energy           Solaron 333 kVA    Evergreen Solar   \n",
       "..                ...                       ...                ...   \n",
       "80            Fronius                   IG 3000           UniSolar   \n",
       "81                SMA          Sunny Boy 3000US  Silicor Materials   \n",
       "82             Satcon  PVS-500(x2), PVS-135(x1)           SunPower   \n",
       "83            Fronius                IG 4500-LV            Siemens   \n",
       "84            Fronius                   IG 4000              Sharp   \n",
       "\n",
       "              module_model site_power module_tech  \\\n",
       "0                NU-U240F1   146640.0           1   \n",
       "1              SW 280 Mono    40000.0        None   \n",
       "2                  STP-270     3240.0           2   \n",
       "3                      NaN   140140.0           1   \n",
       "4           ES-190, ES-195  1082850.0        None   \n",
       "..                     ...        ...         ...   \n",
       "80                 PVL-136     2720.0           3   \n",
       "81                     240     2400.0           9   \n",
       "82  318W(x3136), 315W(496)  1153488.0           1   \n",
       "83                M55 c-SI     6000.0        None   \n",
       "84                ND-208U1     2912.0           2   \n",
       "\n",
       "                                     name_private  \\\n",
       "0   Andre Agassi Preparatory Academy - Building A   \n",
       "1         Clark County, NV - Hollywood Rec Center   \n",
       "2             Make It Right, New Orleans, Site #1   \n",
       "3            Distributed Sun - 5 Executive Campus   \n",
       "4                        NREL, Windsite PV 1-axis   \n",
       "..                                            ...   \n",
       "80               Nelson Home, Golden, CO, Array 2   \n",
       "81                      OTF, Calisolar (System 1)   \n",
       "82                           NREL, Parking Garage   \n",
       "83                        SERF, Serf East Systems   \n",
       "84               Nelson Home, Golden, CO, Array 1   \n",
       "\n",
       "                                          name_public  site_area site_azimuth  \\\n",
       "0   [34] Andre Agassi Preparatory Academy - Buildi...   996.0278        180.0   \n",
       "1      [1419] Clark County, NV - Hollywood Rec Center       None        210.0   \n",
       "2            Residential - NOLA #1 - District A North      23.28        185.9   \n",
       "3         [1201] Distributed Sun - 5 Executive Campus    959.058        230.0   \n",
       "4                      [1431] NREL Windsite PV 1-axis       None         None   \n",
       "..                                                ...        ...          ...   \n",
       "80                                [3] Residential #1b      43.23        181.2   \n",
       "81                             [33] Silicor Materials      15.76        180.0   \n",
       "82                         [1332] NREL Parking Garage  5922.7534        180.0   \n",
       "83                                  [50] NREL x-Si #6       None        158.0   \n",
       "84                                [2] Residential #1a      22.82        181.2   \n",
       "\n",
       "    site_elevation  site_latitude  site_longitude site_tilt  system_id  \n",
       "0            620.0        36.1952       -115.1582      11.2         34  \n",
       "1            779.0        36.1534        115.0256      10.0       1419  \n",
       "2             10.0        30.0017         90.0926      17.0       1244  \n",
       "3             18.0        39.9283        -75.0481      10.0       1201  \n",
       "4           1850.0        39.9094        105.2311      None       1431  \n",
       "..             ...            ...             ...       ...        ...  \n",
       "80          1675.0        39.7214       -105.0972      18.5          3  \n",
       "81          1794.5        39.7404       -105.1772      40.0         33  \n",
       "82          1770.0        39.7388       -105.1732     16.77       1332  \n",
       "83          1994.7        39.7420       -105.1727      45.0         50  \n",
       "84          1675.0        39.7214       -105.0972      18.5          2  \n",
       "\n",
       "[85 rows x 18 columns]"
      ]
     },
     "execution_count": 36,
     "metadata": {},
     "output_type": "execute_result"
    }
   ],
   "source": [
    "meta_dataset = pd.DataFrame.from_dict(metadata_report[0]['outputs'])\n",
    "for system_index in range(1, len(metadata_report)):\n",
    "    meta_dataset = pd.concat([pd.DataFrame.from_dict(metadata_report[system_index]['outputs']), meta_dataset], ignore_index=True)\n",
    "meta_dataset"
   ]
  },
  {
   "cell_type": "code",
   "execution_count": 37,
   "id": "2eaea270-abc0-49d4-9011-c8d9a413fade",
   "metadata": {},
   "outputs": [],
   "source": [
    "## Export to CSV file"
   ]
  },
  {
   "cell_type": "code",
   "execution_count": 38,
   "id": "bf076de7-8ed1-47bc-9aaf-edfb019d7e34",
   "metadata": {},
   "outputs": [],
   "source": [
    "meta_dataset.to_csv('systems_metadata')"
   ]
  },
  {
   "cell_type": "code",
   "execution_count": null,
   "id": "6132d643-5b99-4868-9ca2-375f37b7ac1d",
   "metadata": {},
   "outputs": [],
   "source": []
  }
 ],
 "metadata": {
  "kernelspec": {
   "display_name": "Python 3 (ipykernel)",
   "language": "python",
   "name": "python3"
  },
  "language_info": {
   "codemirror_mode": {
    "name": "ipython",
    "version": 3
   },
   "file_extension": ".py",
   "mimetype": "text/x-python",
   "name": "python",
   "nbconvert_exporter": "python",
   "pygments_lexer": "ipython3",
   "version": "3.8.13"
  }
 },
 "nbformat": 4,
 "nbformat_minor": 5
}
