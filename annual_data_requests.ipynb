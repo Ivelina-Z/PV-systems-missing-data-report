{
 "cells": [
  {
   "cell_type": "code",
   "execution_count": 1,
   "id": "d7a1ae1b-9232-4655-b74d-3224046c68ae",
   "metadata": {},
   "outputs": [],
   "source": [
    "import requests\n",
    "import httpx\n",
    "import asyncio\n",
    "\n",
    "import time\n",
    "\n",
    "import pandas as pd"
   ]
  },
  {
   "cell_type": "markdown",
   "id": "90c8b20a-badf-41a8-b6f1-4e5bd45104df",
   "metadata": {},
   "source": [
    "## Systems metadata cleaning"
   ]
  },
  {
   "cell_type": "markdown",
   "id": "a449706e-e00a-401b-b8d9-645756691be2",
   "metadata": {},
   "source": [
    "After extracting the metadata for all systems, which are not confidential, the data is loaded as data frame and cleaned and structured."
   ]
  },
  {
   "cell_type": "code",
   "execution_count": 2,
   "id": "910f16db-0e10-42c3-9fe6-7cc9d58ead8c",
   "metadata": {},
   "outputs": [],
   "source": [
    "systems_metadata = pd.read_csv('systems_metadata', index_col='Unnamed: 0')"
   ]
  },
  {
   "cell_type": "code",
   "execution_count": 3,
   "id": "b0083177-9fb0-4a95-a23c-eaca3bf201f2",
   "metadata": {},
   "outputs": [
    {
     "data": {
      "text/html": [
       "<div>\n",
       "<style scoped>\n",
       "    .dataframe tbody tr th:only-of-type {\n",
       "        vertical-align: middle;\n",
       "    }\n",
       "\n",
       "    .dataframe tbody tr th {\n",
       "        vertical-align: top;\n",
       "    }\n",
       "\n",
       "    .dataframe thead th {\n",
       "        text-align: right;\n",
       "    }\n",
       "</style>\n",
       "<table border=\"1\" class=\"dataframe\">\n",
       "  <thead>\n",
       "    <tr style=\"text-align: right;\">\n",
       "      <th></th>\n",
       "      <th>available_years</th>\n",
       "      <th>comments</th>\n",
       "      <th>confidential</th>\n",
       "      <th>inverter_mfg</th>\n",
       "      <th>inverter_model</th>\n",
       "      <th>module_mfg</th>\n",
       "      <th>module_model</th>\n",
       "      <th>site_power</th>\n",
       "      <th>module_tech</th>\n",
       "      <th>name_private</th>\n",
       "      <th>name_public</th>\n",
       "      <th>site_area</th>\n",
       "      <th>site_azimuth</th>\n",
       "      <th>site_elevation</th>\n",
       "      <th>site_latitude</th>\n",
       "      <th>site_longitude</th>\n",
       "      <th>site_tilt</th>\n",
       "      <th>system_id</th>\n",
       "    </tr>\n",
       "  </thead>\n",
       "  <tbody>\n",
       "    <tr>\n",
       "      <th>0</th>\n",
       "      <td>[2010, 2011, 2012, 2013, 2014, 2015, 2016, 201...</td>\n",
       "      <td>Having repeated problems with inverter main bo...</td>\n",
       "      <td>False</td>\n",
       "      <td>SatCon Technology</td>\n",
       "      <td>135kW</td>\n",
       "      <td>Sharp</td>\n",
       "      <td>NU-U240F1</td>\n",
       "      <td>146640.0</td>\n",
       "      <td>1.0</td>\n",
       "      <td>Andre Agassi Preparatory Academy - Building A</td>\n",
       "      <td>[34] Andre Agassi Preparatory Academy - Buildi...</td>\n",
       "      <td>996.0278</td>\n",
       "      <td>180.0</td>\n",
       "      <td>620.0</td>\n",
       "      <td>36.1952</td>\n",
       "      <td>-115.1582</td>\n",
       "      <td>11.2</td>\n",
       "      <td>34</td>\n",
       "    </tr>\n",
       "  </tbody>\n",
       "</table>\n",
       "</div>"
      ],
      "text/plain": [
       "                                     available_years  \\\n",
       "0  [2010, 2011, 2012, 2013, 2014, 2015, 2016, 201...   \n",
       "\n",
       "                                            comments  confidential  \\\n",
       "0  Having repeated problems with inverter main bo...         False   \n",
       "\n",
       "        inverter_mfg inverter_model module_mfg module_model  site_power  \\\n",
       "0  SatCon Technology          135kW     Sharp     NU-U240F1    146640.0   \n",
       "\n",
       "   module_tech                                   name_private  \\\n",
       "0          1.0  Andre Agassi Preparatory Academy - Building A   \n",
       "\n",
       "                                         name_public  site_area  site_azimuth  \\\n",
       "0  [34] Andre Agassi Preparatory Academy - Buildi...   996.0278         180.0   \n",
       "\n",
       "   site_elevation  site_latitude  site_longitude  site_tilt  system_id  \n",
       "0           620.0        36.1952       -115.1582       11.2         34  "
      ]
     },
     "execution_count": 3,
     "metadata": {},
     "output_type": "execute_result"
    }
   ],
   "source": [
    "systems_metadata.head(1)"
   ]
  },
  {
   "cell_type": "markdown",
   "id": "97e8f0bb-a782-4f2b-af5c-20c7eb212f92",
   "metadata": {},
   "source": [
    "In the systems metadata there are information about the location(`site_area`, `site_elevation`, `site_latitude`, `site_longitude`), the panel's geometrical configuration(`site_tilt`, `site_azimuth`), the equipment of the system(`inverter_model`, `module_model`, `site_power`, etc.) and the available years of records. There are records where the `available_years` is an empty list. Those can't be used for the further requests. Because of that reason they'll be dropped."
   ]
  },
  {
   "cell_type": "code",
   "execution_count": 4,
   "id": "d0462356-0637-45e8-8ee9-0206a8056e68",
   "metadata": {},
   "outputs": [],
   "source": [
    "systems_metadata = systems_metadata.drop(systems_metadata[systems_metadata['available_years'] == '[]'].index)"
   ]
  },
  {
   "cell_type": "code",
   "execution_count": 5,
   "id": "d5c2bcc3-0018-4974-b093-85d97b084b90",
   "metadata": {},
   "outputs": [
    {
     "data": {
      "text/plain": [
       "(53, 18)"
      ]
     },
     "execution_count": 5,
     "metadata": {},
     "output_type": "execute_result"
    }
   ],
   "source": [
    "systems_metadata.shape"
   ]
  },
  {
   "cell_type": "markdown",
   "id": "34507d59-d8f0-4f3e-86c3-8d48eaf83978",
   "metadata": {},
   "source": [
    "After dropping the 53 PV systems are left."
   ]
  },
  {
   "cell_type": "markdown",
   "id": "edde374b-5469-4aa0-b987-788c072178fe",
   "metadata": {},
   "source": [
    "The data set is still not structured, because in order to add a record only a new year in the list of available years should be added. If data is structured for every new record a new row needs to be created. To achieve that the list will be exploded. "
   ]
  },
  {
   "cell_type": "code",
   "execution_count": 6,
   "id": "2731116f-f406-4e66-b3ae-4bba3784ae61",
   "metadata": {},
   "outputs": [],
   "source": [
    "systems_metadata['available_years'] = systems_metadata['available_years'].str.strip('[]').str.split(', ')"
   ]
  },
  {
   "cell_type": "code",
   "execution_count": 7,
   "id": "3a9cee54-5ff8-4332-b542-8335434570eb",
   "metadata": {},
   "outputs": [],
   "source": [
    "systems_metadata = systems_metadata.explode('available_years')"
   ]
  },
  {
   "cell_type": "code",
   "execution_count": 8,
   "id": "5a4a644c-fdfe-4c23-a580-62af1e4031f1",
   "metadata": {},
   "outputs": [
    {
     "data": {
      "text/html": [
       "<div>\n",
       "<style scoped>\n",
       "    .dataframe tbody tr th:only-of-type {\n",
       "        vertical-align: middle;\n",
       "    }\n",
       "\n",
       "    .dataframe tbody tr th {\n",
       "        vertical-align: top;\n",
       "    }\n",
       "\n",
       "    .dataframe thead th {\n",
       "        text-align: right;\n",
       "    }\n",
       "</style>\n",
       "<table border=\"1\" class=\"dataframe\">\n",
       "  <thead>\n",
       "    <tr style=\"text-align: right;\">\n",
       "      <th></th>\n",
       "      <th>available_years</th>\n",
       "      <th>comments</th>\n",
       "      <th>confidential</th>\n",
       "      <th>inverter_mfg</th>\n",
       "      <th>inverter_model</th>\n",
       "      <th>module_mfg</th>\n",
       "      <th>module_model</th>\n",
       "      <th>site_power</th>\n",
       "      <th>module_tech</th>\n",
       "      <th>name_private</th>\n",
       "      <th>name_public</th>\n",
       "      <th>site_area</th>\n",
       "      <th>site_azimuth</th>\n",
       "      <th>site_elevation</th>\n",
       "      <th>site_latitude</th>\n",
       "      <th>site_longitude</th>\n",
       "      <th>site_tilt</th>\n",
       "      <th>system_id</th>\n",
       "    </tr>\n",
       "  </thead>\n",
       "  <tbody>\n",
       "    <tr>\n",
       "      <th>0</th>\n",
       "      <td>2010</td>\n",
       "      <td>Having repeated problems with inverter main bo...</td>\n",
       "      <td>False</td>\n",
       "      <td>SatCon Technology</td>\n",
       "      <td>135kW</td>\n",
       "      <td>Sharp</td>\n",
       "      <td>NU-U240F1</td>\n",
       "      <td>146640.0</td>\n",
       "      <td>1.0</td>\n",
       "      <td>Andre Agassi Preparatory Academy - Building A</td>\n",
       "      <td>[34] Andre Agassi Preparatory Academy - Buildi...</td>\n",
       "      <td>996.0278</td>\n",
       "      <td>180.0</td>\n",
       "      <td>620.0</td>\n",
       "      <td>36.1952</td>\n",
       "      <td>-115.1582</td>\n",
       "      <td>11.2</td>\n",
       "      <td>34</td>\n",
       "    </tr>\n",
       "    <tr>\n",
       "      <th>0</th>\n",
       "      <td>2011</td>\n",
       "      <td>Having repeated problems with inverter main bo...</td>\n",
       "      <td>False</td>\n",
       "      <td>SatCon Technology</td>\n",
       "      <td>135kW</td>\n",
       "      <td>Sharp</td>\n",
       "      <td>NU-U240F1</td>\n",
       "      <td>146640.0</td>\n",
       "      <td>1.0</td>\n",
       "      <td>Andre Agassi Preparatory Academy - Building A</td>\n",
       "      <td>[34] Andre Agassi Preparatory Academy - Buildi...</td>\n",
       "      <td>996.0278</td>\n",
       "      <td>180.0</td>\n",
       "      <td>620.0</td>\n",
       "      <td>36.1952</td>\n",
       "      <td>-115.1582</td>\n",
       "      <td>11.2</td>\n",
       "      <td>34</td>\n",
       "    </tr>\n",
       "  </tbody>\n",
       "</table>\n",
       "</div>"
      ],
      "text/plain": [
       "  available_years                                           comments  \\\n",
       "0            2010  Having repeated problems with inverter main bo...   \n",
       "0            2011  Having repeated problems with inverter main bo...   \n",
       "\n",
       "   confidential       inverter_mfg inverter_model module_mfg module_model  \\\n",
       "0         False  SatCon Technology          135kW     Sharp     NU-U240F1   \n",
       "0         False  SatCon Technology          135kW     Sharp     NU-U240F1   \n",
       "\n",
       "   site_power  module_tech                                   name_private  \\\n",
       "0    146640.0          1.0  Andre Agassi Preparatory Academy - Building A   \n",
       "0    146640.0          1.0  Andre Agassi Preparatory Academy - Building A   \n",
       "\n",
       "                                         name_public  site_area  site_azimuth  \\\n",
       "0  [34] Andre Agassi Preparatory Academy - Buildi...   996.0278         180.0   \n",
       "0  [34] Andre Agassi Preparatory Academy - Buildi...   996.0278         180.0   \n",
       "\n",
       "   site_elevation  site_latitude  site_longitude  site_tilt  system_id  \n",
       "0           620.0        36.1952       -115.1582       11.2         34  \n",
       "0           620.0        36.1952       -115.1582       11.2         34  "
      ]
     },
     "execution_count": 8,
     "metadata": {},
     "output_type": "execute_result"
    }
   ],
   "source": [
    "systems_metadata.head(2)"
   ]
  },
  {
   "cell_type": "code",
   "execution_count": 9,
   "id": "3dbb0e6b-0c4d-4890-a194-f1c446ec5a82",
   "metadata": {},
   "outputs": [
    {
     "data": {
      "text/plain": [
       "(424, 18)"
      ]
     },
     "execution_count": 9,
     "metadata": {},
     "output_type": "execute_result"
    }
   ],
   "source": [
    "systems_metadata.shape"
   ]
  },
  {
   "cell_type": "markdown",
   "id": "ec0d17b0-f1c0-4ba3-96ab-ad3685cf6c57",
   "metadata": {},
   "source": [
    "The total amount of records after exploding every available year for a system in a new row is 424. "
   ]
  },
  {
   "cell_type": "markdown",
   "id": "372a8288-970e-4b04-ae75-fda3d376ed1d",
   "metadata": {},
   "source": [
    "Next part of that task is extracting data for every particular system for the available years. To accomplish that requests to the 'Annual Data CSV for a System' of NREL API will be made. The data for each system is exported to .csv file. Since 424 request should be made and the results saved to 53 files the time of execution of synchronous and asynchronous method will be compared."
   ]
  },
  {
   "cell_type": "markdown",
   "id": "71abd76e-8815-459a-9591-0109a5ec1cc0",
   "metadata": {},
   "source": [
    "## Request for annual data for a system - synchronous"
   ]
  },
  {
   "cell_type": "markdown",
   "id": "0200a817-c67d-4c13-9ddb-f05279f6c6f6",
   "metadata": {},
   "source": [
    "Using synchronous programming every task is executed after the previous is done. In the case of requests there are significant amount of time, where the program is just waiting on the result. In this case when the `request_annual_data` is called and a request for the data for a particular year is made."
   ]
  },
  {
   "cell_type": "code",
   "execution_count": 10,
   "id": "34621f18-755d-44c2-88ce-54186239e833",
   "metadata": {},
   "outputs": [],
   "source": [
    "def request_annual_data(system, year):\n",
    "    \n",
    "    '''Request annual data for \n",
    "a system for particular year'''\n",
    "    \n",
    "    annual_data_request_result = requests.get(f'https://developer.nrel.gov/api/pvdaq/v3/data_file?api_key=xPPvwr5Jn6RvoUod52vgbckHsa0pX382wVSJwU0o&system_id={system}&year={year}')\n",
    "    return annual_data_request_result"
   ]
  },
  {
   "cell_type": "code",
   "execution_count": 11,
   "id": "4917f008-8c14-40d6-80e8-472cdea744bf",
   "metadata": {},
   "outputs": [],
   "source": [
    "def export_request_result(system):\n",
    "    \n",
    "    ''' Export annual data for the years in the\n",
    "parameter 'years' for particular system in .txt format'''\n",
    "    \n",
    "    available_years = systems_metadata[systems_metadata['system_id'] == 2]['available_years']\n",
    "\n",
    "    with open(f\"annual_data/annual_data_system_{system}.txt\", \"w\") as f:\n",
    "        for year in available_years:\n",
    "            f.write(request_annual_data(system, year).text)"
   ]
  },
  {
   "cell_type": "markdown",
   "id": "367344dc-ab23-4bad-a047-72c7f3ff4fcc",
   "metadata": {},
   "source": [
    "## Request for annual data for a system - asynchronous"
   ]
  },
  {
   "cell_type": "markdown",
   "id": "eb4275a7-4141-4183-9942-fff7d2f924f4",
   "metadata": {},
   "source": [
    "In the case of asynchronous program in the moments when it's waiting on a result the process is not blocked and can proceed to next task, as long as that task does not need a result from any previous which is still not finished. "
   ]
  },
  {
   "cell_type": "code",
   "execution_count": 12,
   "id": "4a083bf3-990c-4f99-a9fc-3b32ae0d6e8f",
   "metadata": {},
   "outputs": [],
   "source": [
    "async def get_year_URL(client, url):\n",
    "    \n",
    "    '''Request annual data for \n",
    "a system for particular year'''\n",
    "    \n",
    "    response = await client.get(url)\n",
    "    return response"
   ]
  },
  {
   "cell_type": "code",
   "execution_count": 13,
   "id": "04f771ef-3ea0-4cfc-9f03-32a13f9d7c02",
   "metadata": {},
   "outputs": [],
   "source": [
    "async def export_system_data(system):\n",
    "    \n",
    "    '''Create list of future object for every year of the particular system.\n",
    "    Gather the data when results are ready and write them into a .txt file with ',' separator.\n",
    "    Note: The resulting data will have headers before every years' first record.\n",
    "    '''\n",
    "    \n",
    "    async with httpx.AsyncClient() as client: \n",
    "        tasks = []\n",
    "        available_years = systems_metadata[systems_metadata['system_id'] == system]['available_years']\n",
    "        for year in available_years:\n",
    "            url = f'https://developer.nrel.gov/api/pvdaq/v3/data_file?api_key=xPPvwr5Jn6RvoUod52vgbckHsa0pX382wVSJwU0o&system_id={system}&year={year}' \n",
    "            tasks.append(asyncio.ensure_future(get_year_URL(client, url)))  \n",
    "        \n",
    "        result_data = await asyncio.gather(*tasks)\n",
    "        \n",
    "        with open(f\"annual_data/ASYNC_annual_data_system_{system}.txt\", \"w\") as f:\n",
    "            for result in result_data:\n",
    "                f.write(result.text)"
   ]
  },
  {
   "cell_type": "markdown",
   "id": "33158de1-50c9-43e9-9c95-cc487bdb81c3",
   "metadata": {},
   "source": [
    "## Time comparison between synchronous and asynchronous method"
   ]
  },
  {
   "cell_type": "code",
   "execution_count": 14,
   "id": "4be5b5e0-729f-4a3b-90c0-57c8678e8f2f",
   "metadata": {},
   "outputs": [],
   "source": [
    "start = time.time()\n",
    "\n",
    "export_request_result(2) \n",
    "\n",
    "time_synchronous = (time.time() - start)"
   ]
  },
  {
   "cell_type": "code",
   "execution_count": 15,
   "id": "d5683f92-f7cd-4a83-8eb8-f92b5cbfa033",
   "metadata": {},
   "outputs": [],
   "source": [
    "start = time.time()\n",
    "\n",
    "await export_system_data(2)\n",
    "\n",
    "time_asynchronous = (time.time() - start)"
   ]
  },
  {
   "cell_type": "code",
   "execution_count": 16,
   "id": "faf49de9-5e63-4bf2-8c17-bc5d28598503",
   "metadata": {},
   "outputs": [
    {
     "name": "stdout",
     "output_type": "stream",
     "text": [
      "The extraction of the annual data for system 2 synchronously took 81.7398943901062 seconds.\n",
      "The extraction of the annual data for system 2 asynchronously took 26.65550470352173 seconds.\n",
      "Asynchronous program was 55.08438968658447 seconds faster.\n"
     ]
    }
   ],
   "source": [
    "print(f'The extraction of the annual data for system 2 synchronously took {time_synchronous} seconds.')\n",
    "print(f'The extraction of the annual data for system 2 asynchronously took {time_asynchronous} seconds.')\n",
    "print(f'Asynchronous program was {time_synchronous - time_asynchronous} seconds faster.')"
   ]
  }
 ],
 "metadata": {
  "kernelspec": {
   "display_name": "Python 3 (ipykernel)",
   "language": "python",
   "name": "python3"
  },
  "language_info": {
   "codemirror_mode": {
    "name": "ipython",
    "version": 3
   },
   "file_extension": ".py",
   "mimetype": "text/x-python",
   "name": "python",
   "nbconvert_exporter": "python",
   "pygments_lexer": "ipython3",
   "version": "3.9.13"
  }
 },
 "nbformat": 4,
 "nbformat_minor": 5
}
